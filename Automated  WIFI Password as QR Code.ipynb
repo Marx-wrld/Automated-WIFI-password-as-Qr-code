{
 "cells": [
  {
   "cell_type": "code",
   "execution_count": 1,
   "id": "6f157267",
   "metadata": {},
   "outputs": [
    {
     "name": "stdout",
     "output_type": "stream",
     "text": [
      "Collecting wifi_qrcode_generatorNote: you may need to restart the kernel to use updated packages.\n"
     ]
    },
    {
     "name": "stderr",
     "output_type": "stream",
     "text": [
      "WARNING: Retrying (Retry(total=4, connect=None, read=None, redirect=None, status=None)) after connection broken by 'NewConnectionError('<pip._vendor.urllib3.connection.HTTPSConnection object at 0x0000020E381FC8E0>: Failed to establish a new connection: [WinError 10051] A socket operation was attempted to an unreachable network')': /simple/wifi-qrcode-generator/\n",
      "WARNING: Retrying (Retry(total=3, connect=None, read=None, redirect=None, status=None)) after connection broken by 'NewConnectionError('<pip._vendor.urllib3.connection.HTTPSConnection object at 0x0000020E381F4790>: Failed to establish a new connection: [Errno 11001] getaddrinfo failed')': /simple/wifi-qrcode-generator/\n",
      "WARNING: Retrying (Retry(total=2, connect=None, read=None, redirect=None, status=None)) after connection broken by 'NewConnectionError('<pip._vendor.urllib3.connection.HTTPSConnection object at 0x0000020E381F4850>: Failed to establish a new connection: [Errno 11001] getaddrinfo failed')': /simple/wifi-qrcode-generator/\n",
      "WARNING: Retrying (Retry(total=1, connect=None, read=None, redirect=None, status=None)) after connection broken by 'NewConnectionError('<pip._vendor.urllib3.connection.HTTPSConnection object at 0x0000020E381F4D90>: Failed to establish a new connection: [Errno 11001] getaddrinfo failed')': /simple/wifi-qrcode-generator/\n",
      "WARNING: Retrying (Retry(total=0, connect=None, read=None, redirect=None, status=None)) after connection broken by 'NewConnectionError('<pip._vendor.urllib3.connection.HTTPSConnection object at 0x0000020E381F4E20>: Failed to establish a new connection: [Errno 11001] getaddrinfo failed')': /simple/wifi-qrcode-generator/\n",
      "  WARNING: Retrying (Retry(total=4, connect=None, read=None, redirect=None, status=None)) after connection broken by 'ConnectTimeoutError(<pip._vendor.urllib3.connection.HTTPSConnection object at 0x0000020E38277790>, 'Connection to files.pythonhosted.org timed out. (connect timeout=15)')': /packages/55/ab/a786a78a3c220025de6dd10d327fe9c0f4c08d349450a5878f2ee013959f/wifi_qrcode_generator-0.1.tar.gz\n"
     ]
    },
    {
     "name": "stdout",
     "output_type": "stream",
     "text": [
      "\n",
      "  Downloading wifi_qrcode_generator-0.1.tar.gz (2.5 kB)\n",
      "Requirement already satisfied: Pillow in c:\\users\\marx\\anaconda3\\lib\\site-packages (from wifi_qrcode_generator) (8.4.0)\n",
      "Collecting qrcode\n",
      "  Downloading qrcode-7.3.1.tar.gz (43 kB)\n",
      "Requirement already satisfied: colorama in c:\\users\\marx\\anaconda3\\lib\\site-packages (from qrcode->wifi_qrcode_generator) (0.4.4)\n",
      "Building wheels for collected packages: wifi-qrcode-generator, qrcode\n",
      "  Building wheel for wifi-qrcode-generator (setup.py): started\n",
      "  Building wheel for wifi-qrcode-generator (setup.py): finished with status 'done'\n",
      "  Created wheel for wifi-qrcode-generator: filename=wifi_qrcode_generator-0.1-py3-none-any.whl size=3064 sha256=6b92634aca39e1d6744aec5926537fb700b56233dba557f2fe72fb0e06b95392\n",
      "  Stored in directory: c:\\users\\marx\\appdata\\local\\pip\\cache\\wheels\\b3\\68\\a3\\b489d63e3c797e54fab2fd6e0cfeccfefba7806aa282274a43\n",
      "  Building wheel for qrcode (setup.py): started\n",
      "  Building wheel for qrcode (setup.py): finished with status 'done'\n",
      "  Created wheel for qrcode: filename=qrcode-7.3.1-py3-none-any.whl size=40401 sha256=58989dd7ed3ec5b8e8c9443f7ed503e447193dc87c590347f2228a93cb639632\n",
      "  Stored in directory: c:\\users\\marx\\appdata\\local\\pip\\cache\\wheels\\93\\54\\16\\55cec87f8d902ed84b94ab8fdb7e89ae1158c06e130bc83b03\n",
      "Successfully built wifi-qrcode-generator qrcode\n",
      "Installing collected packages: qrcode, wifi-qrcode-generator\n",
      "Successfully installed qrcode-7.3.1 wifi-qrcode-generator-0.1\n"
     ]
    }
   ],
   "source": [
    "pip install wifi_qrcode_generator"
   ]
  },
  {
   "cell_type": "code",
   "execution_count": 2,
   "id": "70768813",
   "metadata": {},
   "outputs": [
    {
     "data": {
      "image/png": "[encoded data removed]",
      "text/plain": [
       "<PIL.Image.Image image mode=1 size=410x410 at 0x1ECD7003CA0>"
      ]
     },
     "execution_count": 2,
     "metadata": {},
     "output_type": "execute_result"
    }
   ],
   "source": [
    "import wifi_qrcode_generator as qr\n",
    "qr.wifi_qrcode('wifi name ', False, 'WPA', 'password')"
   ]
  },
  {
   "cell_type": "code",
   "execution_count": null,
   "id": "75962298",
   "metadata": {},
   "outputs": [],
   "source": []
  }
 ],
 "metadata": {
  "kernelspec": {
   "display_name": "Python 3 (ipykernel)",
   "language": "python",
   "name": "python3"
  },
  "language_info": {
   "codemirror_mode": {
    "name": "ipython",
    "version": 3
   },
   "file_extension": ".py",
   "mimetype": "text/x-python",
   "name": "python",
   "nbconvert_exporter": "python",
   "pygments_lexer": "ipython3",
   "version": "3.9.7"
  }
 },
 "nbformat": 4,
 "nbformat_minor": 5
}
